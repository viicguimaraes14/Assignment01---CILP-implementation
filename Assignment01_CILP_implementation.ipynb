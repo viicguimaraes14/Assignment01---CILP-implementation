{
  "nbformat": 4,
  "nbformat_minor": 0,
  "metadata": {
    "colab": {
      "provenance": [],
      "include_colab_link": true
    },
    "kernelspec": {
      "name": "python3",
      "display_name": "Python 3"
    },
    "language_info": {
      "name": "python"
    }
  },
  "cells": [
    {
      "cell_type": "markdown",
      "metadata": {
        "id": "view-in-github",
        "colab_type": "text"
      },
      "source": [
        "<a href=\"https://colab.research.google.com/github/viicguimaraes14/Assignment01---CILP-implementation/blob/main/Assignment01_CILP_implementation.ipynb\" target=\"_parent\"><img src=\"https://colab.research.google.com/assets/colab-badge.svg\" alt=\"Open In Colab\"/></a>"
      ]
    },
    {
      "cell_type": "markdown",
      "source": [
        "Elton Dione and Victória Guimarães"
      ],
      "metadata": {
        "id": "KLUMJ-VLey_v"
      }
    },
    {
      "cell_type": "markdown",
      "source": [
        "#Imports"
      ],
      "metadata": {
        "id": "dssAMzNegzmB"
      }
    },
    {
      "cell_type": "code",
      "source": [
        "import math\n",
        "import random\n",
        "import numpy as np\n",
        "import pandas as pd"
      ],
      "metadata": {
        "id": "WmM_K8XBa3sl"
      },
      "execution_count": null,
      "outputs": []
    },
    {
      "cell_type": "markdown",
      "source": [
        "# Neural Network Def"
      ],
      "metadata": {
        "id": "SqBXxxleg4IX"
      }
    },
    {
      "cell_type": "code",
      "source": [
        "random.seed(0)\n",
        "def rand(a, b):\n",
        "  return (b-a)*random.random() + a\n",
        "\n",
        "def sigmoid(x, diff=False):\n",
        "  if diff:\n",
        "    return 1.0 - x**2\n",
        "  else:\n",
        "    return math.tanh(x)\n",
        "\n",
        "class back:\n",
        "  def __init__(self, ni, nh, no, pesos, w):\n",
        "    self.ni = ni + 1 \n",
        "    self.nh = nh \n",
        "    self.no = no\n",
        "\n",
        "    self.ai = [1.0]*self.ni\n",
        "    self.ah = [1.0]*self.nh\n",
        "    self.ao = [1.0]*self.no\n",
        "\n",
        "    self.wi = np.zeros((self.ni, self.nh))\n",
        "    self.wo = np.zeros((self.nh, self.no))\n",
        "\n",
        "    self.wi = pesos\n",
        "\n",
        "    for j in range(self.nh):\n",
        "      for k in range(self.no):\n",
        "        self.wo[j][k] = rand(-0.2, 0.2)\n",
        "    print(self.wo)\n",
        "\n",
        "    self.ci = np.zeros((self.ni, self.nh))\n",
        "    self.co = np.zeros((self.nh, self.no))\n",
        "\n",
        "  def update(self, inputs):\n",
        "    if len(inputs) != self.ni-1:\n",
        "      raise ValueError('input error')\n",
        "\n",
        "    for i in range(self.ni-1):\n",
        "      self.ai[i] = inputs[i]\n",
        "\n",
        "    for j in range(self.nh):\n",
        "      sum = 0.0\n",
        "      for i in range(self.ni):\n",
        "          sum = sum + self.ai[i] * self.wi[i][j]\n",
        "      self.ah[j] = sigmoid(sum)\n",
        "\n",
        "    for k in range(self.no):\n",
        "      sum = 0.0\n",
        "      for j in range(self.nh):\n",
        "          sum = sum + self.ah[j] * self.wo[j][k]\n",
        "      self.ao[k] = sigmoid(sum)\n",
        "\n",
        "    return self.ao[:]\n",
        "\n",
        "  def backpropagation(self, targets, N, M):\n",
        "    if len(targets) != self.no:\n",
        "      raise ValueError('wrong number of target values')\n",
        "\n",
        "    output_deltas = [0.0] * self.no\n",
        "    for k in range(self.no):\n",
        "      error = targets[k]-self.ao[k]\n",
        "      output_deltas[k] = sigmoid(self.ao[k], diff=True) * error\n",
        "\n",
        "    hidden_deltas = [0.0] * self.nh\n",
        "    for j in range(self.nh):\n",
        "      error = 0.0\n",
        "      for k in range(self.no):\n",
        "          error = error + output_deltas[k]*self.wo[j][k]\n",
        "      hidden_deltas[j] = sigmoid(self.ah[j], diff=True) * error\n",
        "\n",
        "    for j in range(self.nh):\n",
        "      for k in range(self.no):\n",
        "        change = output_deltas[k]*self.ah[j]\n",
        "        self.wo[j][k] = self.wo[j][k] + N*change + M*self.co[j][k]\n",
        "        self.co[j][k] = change\n",
        "\n",
        "    for i in range(self.ni):\n",
        "      for j in range(self.nh):\n",
        "        change = hidden_deltas[j]*self.ai[i]\n",
        "        self.wi[i][j] = self.wi[i][j] + N*change + M*self.ci[i][j]\n",
        "        self.ci[i][j] = change\n",
        "\n",
        "    error = 0.0\n",
        "    for i in range(len(targets)):\n",
        "      error = error + 0.5*(targets[i]-self.ao[i])**2\n",
        "\n",
        "    return error\n",
        "\n",
        "  def test(self, patterns):\n",
        "    for p in patterns: print(p[0], '->', self.update(p[0]))\n",
        "\n",
        "  def weights(self):\n",
        "    print(' Input weights:')\n",
        "    for i in range(self.ni): print(self.wi[i])\n",
        "\n",
        "    print('\\n Output weights:')\n",
        "    for j in range(self.nh): print(self.wo[j])\n",
        "\n",
        "  def train(self, patterns, iterations=2598, N=0.5, M=0.1):\n",
        "    for i in range(iterations):\n",
        "\n",
        "      error = 0.0\n",
        "      for p in patterns:\n",
        "        inputs = p[0]\n",
        "        targets = p[1]\n",
        "        self.update(inputs)\n",
        "        error = error + self.backpropagation(targets, N, M)\n",
        "      if i % 200 == 0:\n",
        "        print('error %-.5f' % error)"
      ],
      "metadata": {
        "id": "kZq-E46caJUh"
      },
      "execution_count": null,
      "outputs": []
    },
    {
      "cell_type": "markdown",
      "source": [
        "\n",
        "# CILP"
      ],
      "metadata": {
        "id": "KeBEdO0bL-Fh"
      }
    },
    {
      "cell_type": "code",
      "source": [
        "def funcH(x,b):\n",
        "  aux = math.exp(-b*x)\n",
        "  return ((2/(1 + aux)) - 1)\n",
        "\n",
        "# read clausules\n",
        "def lerP():\n",
        "  fim = \"n\"\n",
        "  P = []\n",
        "  while(fim == \"n\"):\n",
        "    cabeca = input(\"\")\n",
        "    corpo = input(\"\")\n",
        "    r = [cabeca, corpo.split(',')]\n",
        "    P.append(r)\n",
        "    # print(P)\n",
        "    fim = input(\"y/n : \")\n",
        "  return P\n",
        "\n",
        "# use to know a negation variable\n",
        "def isNot(x, ver=False):\n",
        "  \n",
        "  if ver:\n",
        "    if x!='':\n",
        "      if x[0]==\"-\":\n",
        "        return True\n",
        "      else: return False\n",
        "    else: return False\n",
        "\n",
        "  else:\n",
        "    if x[0]==\"-\":\n",
        "      return x[1]\n",
        "    else:\n",
        "      return \"-\"+x\n",
        "\n",
        "# get litearais\n",
        "def literais(P):\n",
        "  all = []\n",
        "  for r in P:\n",
        "    for s in r:\n",
        "      for t in s:\n",
        "        if (t not in all) and (t != '') and (isNot(t) not in all):\n",
        "          if isNot(t,True):\n",
        "            all.append(isNot(t))\n",
        "          else:\n",
        "            all.append(t)\n",
        "  return all\n",
        "\n",
        "def neg_pos(P):\n",
        "  Neg = []\n",
        "  Pos = []\n",
        "  for k in P:\n",
        "    n=0\n",
        "    p=0\n",
        "    for r in k[1]:\n",
        "      if isNot(r,True):\n",
        "        print(\"neg: \"+r)\n",
        "        n+=1\n",
        "      else:\n",
        "        if r!='':\n",
        "          print(\"pos:  \"+r)\n",
        "          p+=1\n",
        "\n",
        "    Neg.append(n)\n",
        "    Pos.append(p)\n",
        "    print()\n",
        "  return Neg,Pos\n",
        "\n",
        "# get values from data\n",
        "def q_v_k(P):\n",
        "  q = len(P)\n",
        "  v = len(literais(P))\n",
        "  K = []\n",
        "  k = 0\n",
        "  for r in P:\n",
        "    print(r[1], len(r[1]))\n",
        "    if r[1]!=['']:\n",
        "      K.append(len(r[1]))\n",
        "    else:\n",
        "      K.append(0)\n",
        "\n",
        "  return q,v,K\n",
        "\n",
        "def u_heads(P):\n",
        "  heads = [a[0] for a in P]\n",
        "  return [heads.count(a) for a in heads]\n",
        "\n",
        "# variable MAXp\n",
        "def Maxr(k,u):\n",
        "  if k>u: return k\n",
        "  else: return u\n",
        "\n",
        "def Maxp(k,u):\n",
        "  max = 0\n",
        "  for i in k:\n",
        "    for j in u:\n",
        "      if Maxr(i,j)>max:\n",
        "        max = Maxr(i,j)\n",
        "  return max\n",
        "\n",
        "# variable Amin\n",
        "def Amin(k,u):\n",
        "  return ((Maxp(k,u)-1) / (Maxp(k,u)+1))\n",
        "\n",
        "def W_pesos(k,u,b, amin):\n",
        "  return (2/b)*(math.log(1+amin)-math.log(1-amin))/(Maxp(k,u)*(amin-1) + amin+1)\n",
        "\n",
        "# hidden layer\n",
        "def threshold_hidden(amin, K, W):\n",
        "  return [(1+amin)*(k-1)*W/2 for k in K]\n",
        "\n",
        "def empyt(x):\n",
        "  if x=='':\n",
        "    return 0\n",
        "  else: return 1\n",
        "\n",
        "def negacoes(c):\n",
        "  n = c[1]\n",
        "  for i in range(len(n)):\n",
        "    if isNot(n[i], True):\n",
        "      n[i]=isNot(n[i])\n",
        "  return n\n",
        "  \n",
        "def get_data(file_path):\n",
        "    file_content = pd.read_csv(file_path, sep=\"\\n\", header=None)[0].tolist() \n",
        "    data = []\n",
        "    for s in file_content:\n",
        "        data.append(eval(s))\n",
        "    return data"
      ],
      "metadata": {
        "id": "raMW4QQ6q14k"
      },
      "execution_count": null,
      "outputs": []
    },
    {
      "cell_type": "code",
      "source": [
        "def pesos_clauses(P, w, amin):\n",
        "  pesos = []\n",
        "  for r in P:\n",
        "    l = literais(P)\n",
        "    l.append('Bias')\n",
        "    dicio = dict.fromkeys(l, 0)\n",
        "    try:\n",
        "        while True:\n",
        "            r[1].remove('')\n",
        "    except ValueError:\n",
        "        pass\n",
        "    values = [-1 if isNot(a, True) else empyt(a) for a in r[1]]\n",
        "    keys = negacoes(r)\n",
        "    for i in range(len(keys)):\n",
        "      dicio[keys[i]] = values[i]\n",
        "    pesos.append(list(dicio.values()))\n",
        "  \n",
        "  for i in range(len(pesos)):\n",
        "    for a in range(len(pesos[i])):\n",
        "      # print(a)\n",
        "      pesos[i][a]=pesos[i][a]*w\n",
        "  pesos = np.transpose(pesos)\n",
        "  print(pesos)\n",
        "  q, v, K = q_v_k(P)\n",
        "  pesos[-1] = threshold_hidden(amin, K, w)\n",
        "  return pesos"
      ],
      "metadata": {
        "id": "IZVoKk-Fcadc"
      },
      "execution_count": null,
      "outputs": []
    },
    {
      "cell_type": "code",
      "source": [
        "P = [['A', ['B', '-C','-D']], ['A', ['E', 'F']], ['B', ['']], ['C', ['-B']]]\n",
        "pesos = pesos_clauses(P,4.5,0.7)"
      ],
      "metadata": {
        "colab": {
          "base_uri": "https://localhost:8080/"
        },
        "id": "XtTrf83Yg99Y",
        "outputId": "9fcb1898-02dc-4ff0-a0ef-84f165106645"
      },
      "execution_count": null,
      "outputs": [
        {
          "output_type": "stream",
          "name": "stdout",
          "text": [
            "[[ 0.   0.   0.   0. ]\n",
            " [ 4.5  0.   0.  -4.5]\n",
            " [-4.5  0.   0.   0. ]\n",
            " [-4.5  0.   0.   0. ]\n",
            " [ 0.   4.5  0.   0. ]\n",
            " [ 0.   4.5  0.   0. ]\n",
            " [ 0.   0.   0.   0. ]]\n",
            "['B', 'C', 'D'] 3\n",
            "['E', 'F'] 2\n",
            "[] 0\n",
            "['B'] 1\n"
          ]
        }
      ]
    },
    {
      "cell_type": "markdown",
      "source": [
        "\n",
        "# Training and Test process"
      ],
      "metadata": {
        "id": "08gEzOVhi2Pv"
      }
    },
    {
      "cell_type": "markdown",
      "source": [
        "## 3. training dataset should be passed in another file\n",
        "\n",
        "--> Link to download the file and upload in this colab: https://docs.google.com/document/d/1raV4fyRGGgOW4ksvj1tXXpwK1ndkS5zYhVoOxrORqA8/edit?usp=share_link\n"
      ],
      "metadata": {
        "id": "LcSN2IeuCAyr"
      }
    },
    {
      "cell_type": "code",
      "source": [
        "file_path = '/content/dataset_treino.txt'\n",
        "training_dataset = get_data(file_path)\n",
        "training_dataset"
      ],
      "metadata": {
        "colab": {
          "base_uri": "https://localhost:8080/"
        },
        "id": "FmMugOMDz76-",
        "outputId": "82d4159e-7d49-476b-c474-a1efab82ed9f"
      },
      "execution_count": null,
      "outputs": [
        {
          "output_type": "execute_result",
          "data": {
            "text/plain": [
              "[[[0, 0, 0, 0, 0, 0], [0, 1, 1, 0, 0, 0]],\n",
              " [[0, 1, 1, 0, 0, 0], [0, 1, 0, 0, 0, 0]],\n",
              " [[0, 1, 0, 0, 0, 0], [1, 1, 0, 0, 0, 0]],\n",
              " [[1, 1, 0, 0, 0, 0], [1, 1, 0, 0, 0, 0]],\n",
              " [[1, 1, 1, 0, 0, 0], [0, 1, 0, 0, 0, 0]],\n",
              " [[1, 0, 0, 0, 0, 0], [0, 1, 1, 0, 0, 0]]]"
            ]
          },
          "metadata": {},
          "execution_count": 41
        }
      ]
    },
    {
      "cell_type": "markdown",
      "source": [
        "## Training"
      ],
      "metadata": {
        "id": "GRpvLbPZDb9r"
      }
    },
    {
      "cell_type": "code",
      "source": [
        "n = back(6, 4, 6, pesos, 4.5)\n",
        "n.train(training_dataset)"
      ],
      "metadata": {
        "colab": {
          "base_uri": "https://localhost:8080/"
        },
        "id": "HMJnQx-BDbMU",
        "outputId": "3a8657c1-62c2-411f-8a6a-9d2518e3e116"
      },
      "execution_count": null,
      "outputs": [
        {
          "output_type": "stream",
          "name": "stdout",
          "text": [
            "[[ 0.0532355  -0.16661318  0.09022174  0.19472859 -0.03927327  0.071406  ]\n",
            " [-0.07352915 -0.11459014  0.08692966 -0.19905697  0.12909256  0.01133839]\n",
            " [-0.16088626 -0.15243844  0.05970617  0.14946153 -0.0880069   0.19140607]\n",
            " [-0.15992772  0.14157524 -0.04132153 -0.16746183 -0.09011446 -0.01880873]]\n",
            "error 3.78048\n",
            "error 0.00315\n",
            "error 0.00149\n",
            "error 0.00458\n",
            "error 0.00315\n",
            "error 0.00213\n",
            "error 0.00133\n",
            "error 0.00132\n",
            "error 0.00087\n",
            "error 0.00101\n",
            "error 0.00106\n",
            "error 0.00100\n",
            "error 0.00086\n"
          ]
        }
      ]
    },
    {
      "cell_type": "markdown",
      "source": [
        "## 4 test data should be given in a separated file\n",
        "\n",
        "link: https://docs.google.com/document/d/1DIqV4J_416xpa3A_bAnkKHJdKF95Rch7OOtWQc_9VQ8/edit?usp=share_link "
      ],
      "metadata": {
        "id": "Z3d-hZGlFxwE"
      }
    },
    {
      "cell_type": "code",
      "source": [
        "file_path = '/content/dataset_teste.txt'\n",
        "test_dataset = get_data(file_path)\n",
        "test_dataset"
      ],
      "metadata": {
        "colab": {
          "base_uri": "https://localhost:8080/"
        },
        "id": "3QM8BO6dHDoq",
        "outputId": "66ee63e4-5770-43dd-ef2f-98d784970e73"
      },
      "execution_count": null,
      "outputs": [
        {
          "output_type": "execute_result",
          "data": {
            "text/plain": [
              "[[[0, 0, 0, 0, 0, 0], [0, 1, 1, 0, 0, 0]],\n",
              " [[0, 1, 1, 0, 0, 0], [0, 1, 0, 0, 0, 0]],\n",
              " [[0, 1, 0, 0, 0, 0], [1, 1, 0, 0, 0, 0]],\n",
              " [[1, 1, 0, 0, 0, 0], [1, 1, 0, 0, 0, 0]],\n",
              " [[1, 1, 1, 0, 0, 0], [0, 1, 0, 0, 0, 0]],\n",
              " [[1, 0, 0, 0, 0, 0], [0, 1, 1, 0, 0, 0]]]"
            ]
          },
          "metadata": {},
          "execution_count": 44
        }
      ]
    },
    {
      "cell_type": "markdown",
      "source": [
        "##testing"
      ],
      "metadata": {
        "id": "VtsBBiFhHWSy"
      }
    },
    {
      "cell_type": "code",
      "source": [
        "n.test(test_dataset)"
      ],
      "metadata": {
        "colab": {
          "base_uri": "https://localhost:8080/"
        },
        "id": "ZKWZCqnmfr_1",
        "outputId": "b3e06207-27f1-475f-f90f-9aa4c3dbddad"
      },
      "execution_count": null,
      "outputs": [
        {
          "output_type": "stream",
          "name": "stdout",
          "text": [
            "[0, 0, 0, 0, 0, 0] -> [-0.004668951911664774, 0.9967762407571013, 0.9951895537657517, 5.1612177730890035e-06, -4.089327491689101e-07, -8.416203326098778e-07]\n",
            "[0, 1, 1, 0, 0, 0] -> [-0.004771381032090319, 0.9962387439637894, 0.0032087134781172786, -1.0058143177173862e-05, 7.96925127234334e-07, 1.640143500480583e-06]\n",
            "[0, 1, 0, 0, 0, 0] -> [0.9945977872534941, 0.9986789217961286, -0.002620036410628517, -9.000733977650116e-06, 7.131446564186693e-07, 1.467715765495112e-06]\n",
            "[1, 1, 0, 0, 0, 0] -> [0.994681533947806, 0.9986532760533409, -0.004214886541224106, -8.507900491658567e-06, 6.740965557336877e-07, 1.387351266548616e-06]\n",
            "[1, 1, 1, 0, 0, 0] -> [-0.002284684409572078, 0.9959904747417787, -0.0019751481456147667, -8.615076279011586e-06, 6.82588291097318e-07, 1.4048280206978189e-06]\n",
            "[1, 0, 0, 0, 0, 0] -> [-0.0036552895916747746, 0.9967696395714449, 0.995188852965871, 5.215812422531447e-06, -4.1325838334127047e-07, -8.505228763133986e-07]\n"
          ]
        }
      ]
    }
  ]
}